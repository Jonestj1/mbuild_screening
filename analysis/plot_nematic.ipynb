{
 "cells": [
  {
   "cell_type": "code",
   "execution_count": 1,
   "metadata": {
    "collapsed": false
   },
   "outputs": [
    {
     "name": "stderr",
     "output_type": "stream",
     "text": [
      "//anaconda/envs/imodels_py27/lib/python2.7/site-packages/IPython/html.py:14: ShimWarning: The `IPython.html` package has been deprecated. You should import from `notebook` instead. `IPython.html.widgets` has moved to `ipywidgets`.\n",
      "  \"`IPython.html.widgets` has moved to `ipywidgets`.\", ShimWarning)\n"
     ]
    }
   ],
   "source": [
    "%matplotlib inline\n",
    "import matplotlib.pyplot as plt\n",
    "import numpy as np\n",
    "import pandas as pd\n",
    "import seaborn as sns\n",
    "\n",
    "sns.set_style('whitegrid')"
   ]
  },
  {
   "cell_type": "code",
   "execution_count": 2,
   "metadata": {
    "collapsed": true
   },
   "outputs": [],
   "source": [
    "import pickle\n",
    "with open('nematic_order.pickle', 'rb') as fh:\n",
    "    s2 = pickle.load(fh)"
   ]
  },
  {
   "cell_type": "code",
   "execution_count": 3,
   "metadata": {
    "collapsed": true
   },
   "outputs": [],
   "source": [
    "chain_lengths = np.array([6, 9, 12, 15, 18, 21])"
   ]
  },
  {
   "cell_type": "code",
   "execution_count": 5,
   "metadata": {
    "collapsed": false
   },
   "outputs": [],
   "source": [
    "for system, data in s2.items():\n",
    "    #     s2[system]['total'] = (data['bot'] + data['top']) / 2\n",
    "    #     s2[system]['err'] = 1/(1/data['bot_std'] + 1/data['top_std'])\n",
    "    s2[system]['total'] = data['bot']\n",
    "    s2[system]['err'] = data['bot_std']\n",
    "    old_bot = data['bot']\n",
    "    old_err = data['bot_std']"
   ]
  },
  {
   "cell_type": "code",
   "execution_count": null,
   "metadata": {
    "collapsed": false
   },
   "outputs": [],
   "source": []
  },
  {
   "cell_type": "code",
   "execution_count": 6,
   "metadata": {
    "collapsed": false
   },
   "outputs": [],
   "source": [
    "rand_n100 =     np.asarray([x['total'] for n, x in s2.items() if 'n-100' in n and 'rand' in n])\n",
    "rand_n100_std = np.asarray([x['err']   for n, x in s2.items() if 'n-100' in n and 'rand' in n])\n",
    "rand_n81 =      np.asarray([x['total'] for n, x in s2.items() if 'n-81'  in n and 'rand' in n])\n",
    "rand_n81_std =  np.asarray([x['err']   for n, x in s2.items() if 'n-81'  in n and 'rand' in n])\n",
    "rand_n64 =      np.asarray([x['total'] for n, x in s2.items() if 'n-64'  in n and 'rand' in n])\n",
    "rand_n64_std =  np.asarray([x['err']   for n, x in s2.items() if 'n-64'  in n and 'rand' in n])\n",
    "\n",
    "grid_n81 =      np.asarray([x['total'] for n, x in s2.items() if 'n-81'  in n and 'grid' in n])\n",
    "grid_n81_std =  np.asarray([x['err']   for n, x in s2.items() if 'n-81'  in n and 'grid' in n])\n",
    "grid_n64 =      np.asarray([x['total'] for n, x in s2.items() if 'n-64'  in n and 'grid' in n])\n",
    "grid_n64_std =  np.asarray([x['err']   for n, x in s2.items() if 'n-64'  in n and 'grid' in n])\n",
    "\n",
    "# rand_n100_mask = np.isfinite(rand_n100)\n",
    "# rand_n81_mask = np.isfinite(rand_n81)\n",
    "# rand_n64_mask = np.isfinite(rand_n64)\n",
    "# grid_n81_mask = np.isfinite(grid_n81)\n",
    "# grid_n64_mask = np.isfinite(grid_n64)"
   ]
  },
  {
   "cell_type": "code",
   "execution_count": null,
   "metadata": {
    "collapsed": true
   },
   "outputs": [],
   "source": []
  },
  {
   "cell_type": "code",
   "execution_count": 7,
   "metadata": {
    "collapsed": false
   },
   "outputs": [
    {
     "data": {
      "text/plain": [
       "<matplotlib.legend.Legend at 0x113c41910>"
      ]
     },
     "execution_count": 7,
     "metadata": {},
     "output_type": "execute_result"
    },
    {
     "data": {
      "image/png": "[encoded data removed]",
      "text/plain": [
       "<matplotlib.figure.Figure at 0x113c12150>"
      ]
     },
     "metadata": {},
     "output_type": "display_data"
    }
   ],
   "source": [
    "fig = plt.figure()\n",
    "\n",
    "plt.errorbar(chain_lengths, rand_n100, yerr=rand_n100_std,\n",
    "             ls='-', marker='D', label='100 chains')\n",
    "# plt.errorbar(chain_lengths[grid_n81_mask], grid_n81[grid_n81_mask],  yerr=grid_n81_std[grid_n81_mask],  \n",
    "#              ls='-', marker='s', label='81 chains, grid')\n",
    "# plt.errorbar(chain_lengths[grid_n64_mask], grid_n64[grid_n64_mask],  yerr=grid_n64_std[grid_n64_mask],  \n",
    "#              ls='-', marker='s', label='64 chains, grid')\n",
    "\n",
    "plt.errorbar(chain_lengths, rand_n81,  yerr=rand_n81_std,  \n",
    "             ls='--', marker='v', label='81 chains, random')\n",
    "plt.errorbar(chain_lengths, rand_n64,  yerr=rand_n64_std,  \n",
    "             ls=':', marker='o', label='64 chains, random')\n",
    "\n",
    "plt.xlabel('chain length')\n",
    "plt.xticks(chain_lengths)\n",
    "\n",
    "plt.ylabel('S2')\n",
    "plt.ylim((0, 1.01))\n",
    "plt.legend(loc='lower left')"
   ]
  },
  {
   "cell_type": "code",
   "execution_count": 8,
   "metadata": {
    "collapsed": true
   },
   "outputs": [],
   "source": [
    "fig.savefig('nematic.pdf', bbox_inches='tight')"
   ]
  },
  {
   "cell_type": "code",
   "execution_count": null,
   "metadata": {
    "collapsed": true
   },
   "outputs": [],
   "source": []
  }
 ],
 "metadata": {
  "kernelspec": {
   "display_name": "Python 2",
   "language": "python",
   "name": "python2"
  },
  "language_info": {
   "codemirror_mode": {
    "name": "ipython",
    "version": 2
   },
   "file_extension": ".py",
   "mimetype": "text/x-python",
   "name": "python",
   "nbconvert_exporter": "python",
   "pygments_lexer": "ipython2",
   "version": "2.7.11"
  }
 },
 "nbformat": 4,
 "nbformat_minor": 0
}
