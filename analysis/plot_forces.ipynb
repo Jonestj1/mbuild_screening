{
 "cells": [
  {
   "cell_type": "code",
   "execution_count": 1,
   "metadata": {
    "collapsed": true
   },
   "outputs": [],
   "source": [
    "%matplotlib inline\n",
    "import matplotlib.pyplot as plt\n",
    "import numpy as np\n",
    "import pandas as pd\n",
    "import seaborn as sns\n",
    "\n",
    "sns.set_style('whitegrid')"
   ]
  },
  {
   "cell_type": "code",
   "execution_count": 3,
   "metadata": {
    "collapsed": false
   },
   "outputs": [],
   "source": [
    "import pickle\n",
    "with open('forces.pickle', 'rb') as fh:\n",
    "    f = pickle.load(fh, encoding='latin1')"
   ]
  },
  {
   "cell_type": "code",
   "execution_count": 4,
   "metadata": {
    "collapsed": false
   },
   "outputs": [
    {
     "data": {
      "text/plain": [
       "{'alkane_n-100_l-12-rand': -9.5632590353488922e-05,\n",
       " 'alkane_n-100_l-15-rand': 1.1786025948822498e-05,\n",
       " 'alkane_n-100_l-18-rand': -0.00047060126066207885,\n",
       " 'alkane_n-100_l-21-rand': -0.00014021679759025575,\n",
       " 'alkane_n-100_l-6-rand': -3.3673886209726331e-05,\n",
       " 'alkane_n-100_l-9-rand': -2.9905246570706367e-05,\n",
       " 'alkane_n-64_l-12-rand': -2.6150865014642475e-06,\n",
       " 'alkane_n-64_l-15-rand': -1.0961539112031459e-05,\n",
       " 'alkane_n-64_l-18-rand': 7.4596405029296874e-05,\n",
       " 'alkane_n-64_l-6-rand': -7.6920008286833763e-06,\n",
       " 'alkane_n-64_l-9-rand': 1.6357640270143747e-06,\n",
       " 'alkane_n-81_l-12-rand': -1.8774501979351044e-05,\n",
       " 'alkane_n-81_l-15-rand': -5.2543397992849352e-05,\n",
       " 'alkane_n-81_l-18-rand': 3.4093137830495837e-05,\n",
       " 'alkane_n-81_l-21-rand': -0.00013854762911796569,\n",
       " 'alkane_n-81_l-6-rand': -5.6463885121047497e-06,\n",
       " 'alkane_n-81_l-9-rand': 1.8878066912293433e-05}"
      ]
     },
     "execution_count": 4,
     "metadata": {},
     "output_type": "execute_result"
    }
   ],
   "source": [
    "f"
   ]
  },
  {
   "cell_type": "code",
   "execution_count": 3,
   "metadata": {
    "collapsed": true
   },
   "outputs": [],
   "source": [
    "chain_lengths = np.array([6, 9, 12, 15, 18, 21])"
   ]
  },
  {
   "cell_type": "code",
   "execution_count": 9,
   "metadata": {
    "collapsed": false
   },
   "outputs": [],
   "source": [
    "for system, data in s2.items():\n",
    "    if not data:\n",
    "        s2[system]['total'] = old_bot\n",
    "        s2[system]['err'] = old_err\n",
    "        continue\n",
    "    s2[system]['total'] = data['bot']\n",
    "    s2[system]['err'] = data['bot_std']\n",
    "    old_bot = data['bot']\n",
    "    old_err = data['bot_std']"
   ]
  },
  {
   "cell_type": "code",
   "execution_count": null,
   "metadata": {
    "collapsed": false
   },
   "outputs": [],
   "source": []
  },
  {
   "cell_type": "code",
   "execution_count": 10,
   "metadata": {
    "collapsed": false
   },
   "outputs": [],
   "source": [
    "rand_n100 =     np.asarray([x['total'] for n, x in s2.items() if 'n-100' in n and 'rand' in n])\n",
    "rand_n100_std = np.asarray([x['err']   for n, x in s2.items() if 'n-100' in n and 'rand' in n])\n",
    "rand_n81 =      np.asarray([x['total'] for n, x in s2.items() if 'n-81'  in n and 'rand' in n])\n",
    "rand_n81_std =  np.asarray([x['err']   for n, x in s2.items() if 'n-81'  in n and 'rand' in n])\n",
    "rand_n64 =      np.asarray([x['total'] for n, x in s2.items() if 'n-64'  in n and 'rand' in n])\n",
    "rand_n64_std =  np.asarray([x['err']   for n, x in s2.items() if 'n-64'  in n and 'rand' in n])\n",
    "\n",
    "grid_n81 =      np.asarray([x['total'] for n, x in s2.items() if 'n-81'  in n and 'grid' in n])\n",
    "grid_n81_std =  np.asarray([x['err']   for n, x in s2.items() if 'n-81'  in n and 'grid' in n])\n",
    "grid_n64 =      np.asarray([x['total'] for n, x in s2.items() if 'n-64'  in n and 'grid' in n])\n",
    "grid_n64_std =  np.asarray([x['err']   for n, x in s2.items() if 'n-64'  in n and 'grid' in n])\n",
    "\n",
    "# rand_n100_mask = np.isfinite(rand_n100)\n",
    "# rand_n81_mask = np.isfinite(rand_n81)\n",
    "# rand_n64_mask = np.isfinite(rand_n64)\n",
    "# grid_n81_mask = np.isfinite(grid_n81)\n",
    "# grid_n64_mask = np.isfinite(grid_n64)"
   ]
  },
  {
   "cell_type": "code",
   "execution_count": null,
   "metadata": {
    "collapsed": true
   },
   "outputs": [],
   "source": []
  },
  {
   "cell_type": "code",
   "execution_count": 11,
   "metadata": {
    "collapsed": false
   },
   "outputs": [
    {
     "data": {
      "text/plain": [
       "<matplotlib.legend.Legend at 0x115ec5ac8>"
      ]
     },
     "execution_count": 11,
     "metadata": {},
     "output_type": "execute_result"
    },
    {
     "data": {
      "image/png": "[encoded data removed]",
      "text/plain": [
       "<matplotlib.figure.Figure at 0x113b37240>"
      ]
     },
     "metadata": {},
     "output_type": "display_data"
    }
   ],
   "source": [
    "fig = plt.figure()\n",
    "\n",
    "plt.errorbar(chain_lengths, rand_n100, yerr=rand_n100_std,\n",
    "             ls='-', marker='D', label='100 chains')\n",
    "# plt.errorbar(chain_lengths[grid_n81_mask], grid_n81[grid_n81_mask],  yerr=grid_n81_std[grid_n81_mask],  \n",
    "#              ls='-', marker='s', label='81 chains, grid')\n",
    "# plt.errorbar(chain_lengths[grid_n64_mask], grid_n64[grid_n64_mask],  yerr=grid_n64_std[grid_n64_mask],  \n",
    "#              ls='-', marker='s', label='64 chains, grid')\n",
    "\n",
    "plt.errorbar(chain_lengths, rand_n81,  yerr=rand_n81_std,  \n",
    "             ls='--', marker='v', label='81 chains, random')\n",
    "plt.errorbar(chain_lengths, rand_n64,  yerr=rand_n64_std,  \n",
    "             ls=':', marker='o', label='64 chains, random')\n",
    "\n",
    "plt.xlabel('chain length')\n",
    "plt.xticks(chain_lengths)\n",
    "\n",
    "plt.ylabel('S2')\n",
    "plt.ylim((0, 1.01))\n",
    "plt.legend(loc='lower left')"
   ]
  },
  {
   "cell_type": "code",
   "execution_count": 12,
   "metadata": {
    "collapsed": true
   },
   "outputs": [],
   "source": [
    "fig.savefig('nematic.pdf', bbox_inches='tight')"
   ]
  },
  {
   "cell_type": "code",
   "execution_count": null,
   "metadata": {
    "collapsed": true
   },
   "outputs": [],
   "source": []
  }
 ],
 "metadata": {
  "kernelspec": {
   "display_name": "Python 3",
   "language": "python",
   "name": "python3"
  },
  "language_info": {
   "codemirror_mode": {
    "name": "ipython",
    "version": 3
   },
   "file_extension": ".py",
   "mimetype": "text/x-python",
   "name": "python",
   "nbconvert_exporter": "python",
   "pygments_lexer": "ipython3",
   "version": "3.4.4"
  }
 },
 "nbformat": 4,
 "nbformat_minor": 0
}
